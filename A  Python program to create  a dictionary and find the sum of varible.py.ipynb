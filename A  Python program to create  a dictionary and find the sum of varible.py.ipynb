{
 "cells": [
  {
   "cell_type": "code",
   "execution_count": 2,
   "id": "9023a464",
   "metadata": {},
   "outputs": [
    {
     "name": "stdout",
     "output_type": "stream",
     "text": [
      "enter elements in { }:{'a':10,'b':20,'c':30,'naga':40}\n",
      "sum of values in the dictionary: 100\n"
     ]
    }
   ],
   "source": [
    "dict=eval(input(\"enter elements in { }:\"))  # enter the dictionary entries from keybord\n",
    "s=sum(dict.values())                        # find the sum of values\n",
    "print(\"sum of values in the dictionary:\",s)  # display sum"
   ]
  },
  {
   "cell_type": "code",
   "execution_count": null,
   "id": "8a1ebc74",
   "metadata": {},
   "outputs": [],
   "source": []
  }
 ],
 "metadata": {
  "kernelspec": {
   "display_name": "Python 3 (ipykernel)",
   "language": "python",
   "name": "python3"
  },
  "language_info": {
   "codemirror_mode": {
    "name": "ipython",
    "version": 3
   },
   "file_extension": ".py",
   "mimetype": "text/x-python",
   "name": "python",
   "nbconvert_exporter": "python",
   "pygments_lexer": "ipython3",
   "version": "3.9.9"
  }
 },
 "nbformat": 4,
 "nbformat_minor": 5
}
