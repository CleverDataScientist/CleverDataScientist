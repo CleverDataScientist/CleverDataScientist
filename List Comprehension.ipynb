{
 "cells": [
  {
   "cell_type": "markdown",
   "id": "64d746a5",
   "metadata": {},
   "source": [
    "### List Comprehension"
   ]
  },
  {
   "cell_type": "code",
   "execution_count": null,
   "id": "18c6b8a7",
   "metadata": {},
   "outputs": [],
   "source": [
    "List comprehension offers a shorter syntax when you want to create a new list based on the values of an existing list."
   ]
  },
  {
   "cell_type": "code",
   "execution_count": 5,
   "id": "cd0b01fd",
   "metadata": {},
   "outputs": [
    {
     "name": "stdout",
     "output_type": "stream",
     "text": [
      "['apple', 'banana', 'mango']\n"
     ]
    }
   ],
   "source": [
    "fruits = [\"apple\", \"banana\", \"cherry\", \"Kiwi\" ,\"mango\"]\n",
    "newlist = []\n",
    "\n",
    "for x in fruits:\n",
    "    if \"a\" in x:\n",
    "        newlist.append(x)\n",
    "\n",
    "print(newlist)"
   ]
  },
  {
   "cell_type": "code",
   "execution_count": 4,
   "id": "074b5dc1",
   "metadata": {},
   "outputs": [
    {
     "name": "stdout",
     "output_type": "stream",
     "text": [
      "['apple', 'banana', 'mango']\n"
     ]
    }
   ],
   "source": [
    "fruits = [\"apple\", \"banana\", \"cherry\", \"kiwi\", \"mango\"]\n",
    "\n",
    "newlist = [x for x in fruits if \"a\" in x]\n",
    "\n",
    "print(newlist)"
   ]
  },
  {
   "cell_type": "code",
   "execution_count": 9,
   "id": "76464b1f",
   "metadata": {},
   "outputs": [
    {
     "name": "stdout",
     "output_type": "stream",
     "text": [
      "['sri', 'cherry', 'kiran', 'mani']\n"
     ]
    }
   ],
   "source": [
    "names = [\"anu\", \"sri\", \"cherry\", \"kiran\", \"mani\"]\n",
    "\n",
    "newlist = [x for x in names if x != \"anu\"]\n",
    "\n",
    "print(newlist)"
   ]
  },
  {
   "cell_type": "code",
   "execution_count": 11,
   "id": "784fe811",
   "metadata": {},
   "outputs": [
    {
     "name": "stdout",
     "output_type": "stream",
     "text": [
      "[0, 1, 2, 3, 4, 5, 6, 7, 8, 9]\n"
     ]
    }
   ],
   "source": [
    "newlist = [x for x in range(10)]\n",
    "print(newlist)"
   ]
  },
  {
   "cell_type": "code",
   "execution_count": 12,
   "id": "fed3d02f",
   "metadata": {},
   "outputs": [
    {
     "name": "stdout",
     "output_type": "stream",
     "text": [
      "[0, 1, 2, 3, 4]\n"
     ]
    }
   ],
   "source": [
    "newlist = [x for x in range(10) if x < 5]\n",
    "\n",
    "print(newlist)\n"
   ]
  },
  {
   "cell_type": "code",
   "execution_count": 13,
   "id": "0e537361",
   "metadata": {},
   "outputs": [
    {
     "name": "stdout",
     "output_type": "stream",
     "text": [
      "['ENGLISH', 'MATHEMATICS', 'STATISTICS', 'COMPUTER SCIENCE', 'TELUGU']\n"
     ]
    }
   ],
   "source": [
    "subjects = [\"english\", \"mathematics\", \"statistics\", \"computer science\", \"telugu\"]\n",
    "\n",
    "newlist = [x.upper() for x in subjects]\n",
    "\n",
    "print(newlist)\n"
   ]
  },
  {
   "cell_type": "code",
   "execution_count": 14,
   "id": "dbb0b38e",
   "metadata": {},
   "outputs": [
    {
     "name": "stdout",
     "output_type": "stream",
     "text": [
      "['banana', 'kiwi', 'mango', 'orange', 'pineapple']\n"
     ]
    }
   ],
   "source": [
    "mylist = [\"orange\", \"mango\", \"kiwi\", \"pineapple\", \"banana\"]\n",
    "mylist.sort()\n",
    "print(mylist)"
   ]
  },
  {
   "cell_type": "code",
   "execution_count": 20,
   "id": "39343eee",
   "metadata": {},
   "outputs": [
    {
     "name": "stdout",
     "output_type": "stream",
     "text": [
      "[10, 23, 50, 64, 65, 82, 88, 100]\n"
     ]
    }
   ],
   "source": [
    "list = [100, 50, 65, 82, 23,10,88,64]\n",
    "list.sort()\n",
    "print(list)\n"
   ]
  },
  {
   "cell_type": "code",
   "execution_count": 19,
   "id": "595cd04a",
   "metadata": {},
   "outputs": [
    {
     "name": "stdout",
     "output_type": "stream",
     "text": [
      "[100, 88, 82, 65, 64, 50, 23, 10]\n"
     ]
    }
   ],
   "source": [
    "list = [100, 50, 65, 82, 23,10,88,64]\n",
    "list.sort(reverse = True)\n",
    "print(list)"
   ]
  },
  {
   "cell_type": "code",
   "execution_count": 148,
   "id": "14c572b6",
   "metadata": {},
   "outputs": [
    {
     "name": "stdout",
     "output_type": "stream",
     "text": [
      "['english', 'telugu', 'hindi']\n"
     ]
    }
   ],
   "source": [
    "languages = [\"english\", \"telugu\", \"hindi\"]\n",
    "mylist = languages.copy()\n",
    "print(mylist)\n"
   ]
  },
  {
   "cell_type": "code",
   "execution_count": 25,
   "id": "8ebef566",
   "metadata": {},
   "outputs": [
    {
     "name": "stdout",
     "output_type": "stream",
     "text": [
      "['a', 'b', 'c', 1, 2, 3]\n"
     ]
    }
   ],
   "source": [
    "list1 = [\"a\", \"b\", \"c\"]\n",
    "list2 = [1, 2, 3]\n",
    "\n",
    "list3 = list1 + list2\n",
    "print(list3)"
   ]
  },
  {
   "cell_type": "code",
   "execution_count": 27,
   "id": "9e7620c0",
   "metadata": {},
   "outputs": [
    {
     "name": "stdout",
     "output_type": "stream",
     "text": [
      "['a', 'n', 'u', 3, 5, 7]\n"
     ]
    }
   ],
   "source": [
    "list1 = [\"a\", \"n\" , \"u\"]\n",
    "list2 = [3, 5, 7]\n",
    "\n",
    "for x in list2:\n",
    "    list1.append(x)\n",
    "\n",
    "print(list1)\n"
   ]
  },
  {
   "cell_type": "code",
   "execution_count": 29,
   "id": "77883a67",
   "metadata": {},
   "outputs": [
    {
     "name": "stdout",
     "output_type": "stream",
     "text": [
      "['x', 'y', 'z', 10, 20, 30]\n"
     ]
    }
   ],
   "source": [
    "list1 = [\"x\", \"y\" , \"z\"]\n",
    "list2 = [10, 20, 30]\n",
    "\n",
    "list1.extend(list2)\n",
    "print(list1)"
   ]
  },
  {
   "cell_type": "code",
   "execution_count": 116,
   "id": "764ca6a0",
   "metadata": {},
   "outputs": [
    {
     "name": "stdout",
     "output_type": "stream",
     "text": [
      "[1, 2, 3, 4, 5, 6, 7, 8, 9]\n"
     ]
    }
   ],
   "source": [
    "new_list = [x for x in range(1, 10)]\n",
    "print(new_list)"
   ]
  },
  {
   "cell_type": "code",
   "execution_count": 119,
   "id": "0c460228",
   "metadata": {},
   "outputs": [
    {
     "name": "stdout",
     "output_type": "stream",
     "text": [
      "[2, 3, 4, 6, 8, 9]\n"
     ]
    }
   ],
   "source": [
    "new_list = [x for x in range(1, 10) if x % 2 == 0 or x % 3 == 0]\n",
    "print(new_list )"
   ]
  },
  {
   "cell_type": "code",
   "execution_count": 30,
   "id": "2ab8e4d1",
   "metadata": {},
   "outputs": [
    {
     "name": "stdout",
     "output_type": "stream",
     "text": [
      "['Aa', 'Ab', 'Ac', 'Ba', 'Bb', 'Bc', 'Ca', 'Cb', 'Cc']\n"
     ]
    }
   ],
   "source": [
    "print([i+j for i in \"ABC\" for j in \"abc\"])"
   ]
  },
  {
   "cell_type": "code",
   "execution_count": 35,
   "id": "2fef5ec0",
   "metadata": {},
   "outputs": [
    {
     "name": "stdout",
     "output_type": "stream",
     "text": [
      "['p', 'y', 't', 'h', 'o', 'n']\n"
     ]
    }
   ],
   "source": [
    "print([i for i in \"python\"])"
   ]
  },
  {
   "cell_type": "code",
   "execution_count": 96,
   "id": "9b972094",
   "metadata": {},
   "outputs": [
    {
     "name": "stdout",
     "output_type": "stream",
     "text": [
      "['e', 'n']\n"
     ]
    }
   ],
   "source": [
    "print([i[-1] for i in [\"Data science\",\"Python\"]])"
   ]
  },
  {
   "cell_type": "code",
   "execution_count": 98,
   "id": "54764f47",
   "metadata": {},
   "outputs": [
    {
     "name": "stdout",
     "output_type": "stream",
     "text": [
      "['t']\n"
     ]
    }
   ],
   "source": [
    "print([i[2] for i in [\"Data science\"]])"
   ]
  },
  {
   "cell_type": "code",
   "execution_count": 99,
   "id": "22a83db9",
   "metadata": {},
   "outputs": [
    {
     "name": "stdout",
     "output_type": "stream",
     "text": [
      "['ecneics ataD']\n"
     ]
    }
   ],
   "source": [
    "print([i[::-1] for i in [\"Data science\"]])"
   ]
  },
  {
   "cell_type": "code",
   "execution_count": 81,
   "id": "6d6142d9",
   "metadata": {},
   "outputs": [
    {
     "name": "stdout",
     "output_type": "stream",
     "text": [
      "[0, 1, 2, 3, 4, 5, 6, 7, 8, 9]\n"
     ]
    }
   ],
   "source": [
    "print([i for i in range(10)])"
   ]
  },
  {
   "cell_type": "code",
   "execution_count": 36,
   "id": "0609c457",
   "metadata": {},
   "outputs": [
    {
     "name": "stdout",
     "output_type": "stream",
     "text": [
      "['Aaa', 'Bbb', 'Ccc']\n"
     ]
    }
   ],
   "source": [
    "print([ i for i in [\"Aaa\",\"Bbb\",\"Ccc\"]])"
   ]
  },
  {
   "cell_type": "code",
   "execution_count": 37,
   "id": "8bc45f6e",
   "metadata": {},
   "outputs": [
    {
     "name": "stdout",
     "output_type": "stream",
     "text": [
      "['A', 'B', 'C']\n"
     ]
    }
   ],
   "source": [
    "print([ i[0] for i in [\"Aaa\",\"Bbb\",\"Ccc\"]])"
   ]
  },
  {
   "cell_type": "code",
   "execution_count": 139,
   "id": "cc3047a6",
   "metadata": {},
   "outputs": [
    {
     "data": {
      "text/plain": [
       "14"
      ]
     },
     "execution_count": 139,
     "metadata": {},
     "output_type": "execute_result"
    }
   ],
   "source": [
    "sum([i * i for i in range(4)])"
   ]
  },
  {
   "cell_type": "code",
   "execution_count": 38,
   "id": "7b065762",
   "metadata": {},
   "outputs": [
    {
     "name": "stdout",
     "output_type": "stream",
     "text": [
      "['x', 'y', 'z']\n"
     ]
    }
   ],
   "source": [
    "print([ i[2] for i in [\"Aaxa\",\"Bbys\",\"Cczb\"]])"
   ]
  },
  {
   "cell_type": "code",
   "execution_count": 40,
   "id": "5c2fd856",
   "metadata": {},
   "outputs": [
    {
     "name": "stdout",
     "output_type": "stream",
     "text": [
      "5\n"
     ]
    }
   ],
   "source": [
    "print(len([i for i in range(10) if(i%2==0)]))"
   ]
  },
  {
   "cell_type": "code",
   "execution_count": 42,
   "id": "f5575f7c",
   "metadata": {},
   "outputs": [
    {
     "name": "stdout",
     "output_type": "stream",
     "text": [
      "10\n"
     ]
    }
   ],
   "source": [
    "print(len([i for i in range(20) if(i%2==0)]))"
   ]
  },
  {
   "cell_type": "code",
   "execution_count": 44,
   "id": "eeab553f",
   "metadata": {},
   "outputs": [
    {
     "name": "stdout",
     "output_type": "stream",
     "text": [
      "3\n"
     ]
    }
   ],
   "source": [
    "print(len([ i for i in[1,2,3,4,5,6] if (i%2==1)]))"
   ]
  },
  {
   "cell_type": "code",
   "execution_count": 45,
   "id": "4b5b0e83",
   "metadata": {},
   "outputs": [
    {
     "name": "stdout",
     "output_type": "stream",
     "text": [
      "5\n"
     ]
    }
   ],
   "source": [
    "print(len([ i for i in[1,2,3,4,5,6,7,8,9] if (i%2==1)]))"
   ]
  },
  {
   "cell_type": "code",
   "execution_count": 123,
   "id": "1d3af98d",
   "metadata": {},
   "outputs": [
    {
     "data": {
      "text/plain": [
       "[0, 1, 4, 9, 16, 25, 36, 49, 64, 81]"
      ]
     },
     "execution_count": 123,
     "metadata": {},
     "output_type": "execute_result"
    }
   ],
   "source": [
    "squares = [i * i for i in range(10)]\n",
    "squares"
   ]
  },
  {
   "cell_type": "code",
   "execution_count": 135,
   "id": "fab4e387",
   "metadata": {},
   "outputs": [
    {
     "data": {
      "text/plain": [
       "{0: 0, 1: 1, 2: 4, 3: 9, 4: 16, 5: 25, 6: 36, 7: 49, 8: 64, 9: 81}"
      ]
     },
     "execution_count": 135,
     "metadata": {},
     "output_type": "execute_result"
    }
   ],
   "source": [
    "squares = {i: i * i for i in range(10)}\n",
    "squares"
   ]
  },
  {
   "cell_type": "code",
   "execution_count": 75,
   "id": "428be840",
   "metadata": {},
   "outputs": [
    {
     "name": "stdout",
     "output_type": "stream",
     "text": [
      "[1, 4, 9, 16, 25, 36, 64, 49, 25, 16, 36, 49, 9, 4]\n"
     ]
    }
   ],
   "source": [
    "print([i**2 for i in [1,2,3,4,5,6,8,7,5,4,6,7,3,2,]])"
   ]
  },
  {
   "cell_type": "code",
   "execution_count": 73,
   "id": "0e20c3a1",
   "metadata": {},
   "outputs": [
    {
     "name": "stdout",
     "output_type": "stream",
     "text": [
      "[4, 16]\n"
     ]
    }
   ],
   "source": [
    " print([i**2 for i in [1,2,3,4] if(i%2==0)])"
   ]
  },
  {
   "cell_type": "code",
   "execution_count": 61,
   "id": "be067317",
   "metadata": {},
   "outputs": [
    {
     "name": "stdout",
     "output_type": "stream",
     "text": [
      "[1, 9, 25]\n"
     ]
    }
   ],
   "source": [
    "print([i**2 for i in [1,2,3,4,5] if(i%2!=0)])"
   ]
  },
  {
   "cell_type": "code",
   "execution_count": 109,
   "id": "e223b54a",
   "metadata": {},
   "outputs": [
    {
     "name": "stdout",
     "output_type": "stream",
     "text": [
      "123 is odd\n"
     ]
    }
   ],
   "source": [
    "value = 123\n",
    "print(value, 'is', 'even' if value % 2 == 0 else 'odd')"
   ]
  },
  {
   "cell_type": "code",
   "execution_count": 71,
   "id": "64b61488",
   "metadata": {},
   "outputs": [
    {
     "name": "stdout",
     "output_type": "stream",
     "text": [
      "{1, 2, 3, 4, 98, 56, 76}\n"
     ]
    }
   ],
   "source": [
    "print({1,1,1,2,2,2,3,3,3,4,4,56,76,98})"
   ]
  },
  {
   "cell_type": "code",
   "execution_count": 69,
   "id": "1ff64735",
   "metadata": {},
   "outputs": [
    {
     "name": "stdout",
     "output_type": "stream",
     "text": [
      "[{64, 1, 4, 36, 100, 9, 16, 49, 81, 25}]\n"
     ]
    }
   ],
   "source": [
    "print([{i**2 for i in [1,2,1,3,4,5,3,6,7,8,9,7,8,9,4,10]}])"
   ]
  },
  {
   "cell_type": "code",
   "execution_count": 76,
   "id": "54eeb463",
   "metadata": {},
   "outputs": [
    {
     "name": "stdout",
     "output_type": "stream",
     "text": [
      "[22, 24, 26, 42, 44, 46, 62, 64, 66]\n"
     ]
    }
   ],
   "source": [
    "l3=[]\n",
    "for i in [20,40,60]:\n",
    "    for j in [2,4,6]:\n",
    "        l3.append(i+j)\n",
    "print(l3)        \n"
   ]
  },
  {
   "cell_type": "code",
   "execution_count": 112,
   "id": "24b0b2cb",
   "metadata": {},
   "outputs": [
    {
     "name": "stdout",
     "output_type": "stream",
     "text": [
      "[6]\n"
     ]
    }
   ],
   "source": [
    "new_list = []\n",
    "for x in range(1, 10):\n",
    "    if x % 2 == 0 and x % 3 == 0:\n",
    "        new_list.append(x)\n",
    "print(new_list)"
   ]
  },
  {
   "cell_type": "code",
   "execution_count": 122,
   "id": "72bc71b0",
   "metadata": {},
   "outputs": [
    {
     "data": {
      "text/plain": [
       "[0, 1, 4, 9, 16, 25, 36, 49, 64, 81]"
      ]
     },
     "execution_count": 122,
     "metadata": {},
     "output_type": "execute_result"
    }
   ],
   "source": [
    "squares = []\n",
    "for i in range(10):\n",
    "    squares.append(i * i)\n",
    "squares"
   ]
  },
  {
   "cell_type": "code",
   "execution_count": 120,
   "id": "c35e2fa6",
   "metadata": {},
   "outputs": [
    {
     "name": "stdout",
     "output_type": "stream",
     "text": [
      "['P', 'y', 't', 'h', 'o', 'n']\n"
     ]
    }
   ],
   "source": [
    "P_letters = [ letter for letter in 'Python' ]\n",
    "print( P_letters)"
   ]
  },
  {
   "cell_type": "code",
   "execution_count": 121,
   "id": "2b8a945d",
   "metadata": {},
   "outputs": [
    {
     "name": "stdout",
     "output_type": "stream",
     "text": [
      "['Even', 'Odd', 'Even', 'Odd', 'Even', 'Odd', 'Even', 'Odd', 'Even', 'Odd']\n"
     ]
    }
   ],
   "source": [
    "obj = [\"Even\" if i%2==0 else \"Odd\" for i in range(10)]\n",
    "print(obj)"
   ]
  },
  {
   "cell_type": "code",
   "execution_count": null,
   "id": "5593bd81",
   "metadata": {},
   "outputs": [],
   "source": []
  }
 ],
 "metadata": {
  "kernelspec": {
   "display_name": "Python 3 (ipykernel)",
   "language": "python",
   "name": "python3"
  },
  "language_info": {
   "codemirror_mode": {
    "name": "ipython",
    "version": 3
   },
   "file_extension": ".py",
   "mimetype": "text/x-python",
   "name": "python",
   "nbconvert_exporter": "python",
   "pygments_lexer": "ipython3",
   "version": "3.9.9"
  }
 },
 "nbformat": 4,
 "nbformat_minor": 5
}
